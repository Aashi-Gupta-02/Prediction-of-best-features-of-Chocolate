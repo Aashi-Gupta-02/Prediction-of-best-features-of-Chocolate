{
 "cells": [
  {
   "cell_type": "markdown",
   "metadata": {},
   "source": [
    "Conjoint Analysis is a technique used to understand preference or relative importance given to various attributes of a product by the customer while making purchase decisions."
   ]
  },
  {
   "cell_type": "markdown",
   "metadata": {},
   "source": [
    "# What type of chocolates do the customers prefer?"
   ]
  },
  {
   "cell_type": "code",
   "execution_count": 1,
   "metadata": {},
   "outputs": [],
   "source": [
    "#Importing the library\n",
    "import pandas as pd"
   ]
  },
  {
   "cell_type": "code",
   "execution_count": 14,
   "metadata": {},
   "outputs": [
    {
     "data": {
      "text/html": [
       "<div>\n",
       "<style scoped>\n",
       "    .dataframe tbody tr th:only-of-type {\n",
       "        vertical-align: middle;\n",
       "    }\n",
       "\n",
       "    .dataframe tbody tr th {\n",
       "        vertical-align: top;\n",
       "    }\n",
       "\n",
       "    .dataframe thead th {\n",
       "        text-align: right;\n",
       "    }\n",
       "</style>\n",
       "<table border=\"1\" class=\"dataframe\">\n",
       "  <thead>\n",
       "    <tr style=\"text-align: right;\">\n",
       "      <th></th>\n",
       "      <th>Rating</th>\n",
       "      <th>Brand</th>\n",
       "      <th>Flavour</th>\n",
       "      <th>Shape</th>\n",
       "      <th>Price</th>\n",
       "      <th>Size</th>\n",
       "    </tr>\n",
       "  </thead>\n",
       "  <tbody>\n",
       "    <tr>\n",
       "      <th>0</th>\n",
       "      <td>2</td>\n",
       "      <td>Amul</td>\n",
       "      <td>Milk</td>\n",
       "      <td>Cube</td>\n",
       "      <td>Rs.50</td>\n",
       "      <td>25gm</td>\n",
       "    </tr>\n",
       "    <tr>\n",
       "      <th>1</th>\n",
       "      <td>3</td>\n",
       "      <td>Cadbury</td>\n",
       "      <td>Dark</td>\n",
       "      <td>Thin Bar</td>\n",
       "      <td>Rs.80</td>\n",
       "      <td>40gm</td>\n",
       "    </tr>\n",
       "    <tr>\n",
       "      <th>2</th>\n",
       "      <td>1</td>\n",
       "      <td>Hershey's</td>\n",
       "      <td>Nuts</td>\n",
       "      <td>Round</td>\n",
       "      <td>Rs.200</td>\n",
       "      <td>150gm</td>\n",
       "    </tr>\n",
       "    <tr>\n",
       "      <th>3</th>\n",
       "      <td>1</td>\n",
       "      <td>Nestle</td>\n",
       "      <td>White</td>\n",
       "      <td>Bar</td>\n",
       "      <td>Rs.450</td>\n",
       "      <td>300gm</td>\n",
       "    </tr>\n",
       "    <tr>\n",
       "      <th>4</th>\n",
       "      <td>3</td>\n",
       "      <td>Hershey's</td>\n",
       "      <td>Milk</td>\n",
       "      <td>Thin Bar</td>\n",
       "      <td>Rs.50</td>\n",
       "      <td>150gm</td>\n",
       "    </tr>\n",
       "  </tbody>\n",
       "</table>\n",
       "</div>"
      ],
      "text/plain": [
       "   Rating      Brand Flavour     Shape   Price   Size\n",
       "0       2       Amul    Milk      Cube   Rs.50   25gm\n",
       "1       3    Cadbury    Dark  Thin Bar   Rs.80   40gm\n",
       "2       1  Hershey's    Nuts     Round  Rs.200  150gm\n",
       "3       1     Nestle   White       Bar  Rs.450  300gm\n",
       "4       3  Hershey's    Milk  Thin Bar   Rs.50  150gm"
      ]
     },
     "execution_count": 14,
     "metadata": {},
     "output_type": "execute_result"
    }
   ],
   "source": [
    "#Reading data from excel\n",
    "data=pd.read_excel(\"Chocolate data.xlsx\")\n",
    "#Printing first five records of data\n",
    "data.head()"
   ]
  },
  {
   "cell_type": "code",
   "execution_count": 15,
   "metadata": {},
   "outputs": [
    {
     "data": {
      "text/plain": [
       "Index(['Rating', 'Brand', 'Flavour', 'Shape', 'Price', 'Size'], dtype='object')"
      ]
     },
     "execution_count": 15,
     "metadata": {},
     "output_type": "execute_result"
    }
   ],
   "source": [
    "#Checking the column names\n",
    "data.columns"
   ]
  },
  {
   "cell_type": "code",
   "execution_count": 23,
   "metadata": {},
   "outputs": [
    {
     "data": {
      "text/plain": [
       "(20, 6)"
      ]
     },
     "execution_count": 23,
     "metadata": {},
     "output_type": "execute_result"
    }
   ],
   "source": [
    "#Checking the number of rows and number of columns\n",
    "data.shape"
   ]
  },
  {
   "cell_type": "code",
   "execution_count": 24,
   "metadata": {},
   "outputs": [
    {
     "data": {
      "text/plain": [
       "120"
      ]
     },
     "execution_count": 24,
     "metadata": {},
     "output_type": "execute_result"
    }
   ],
   "source": [
    "#Checking the size of data\n",
    "data.size"
   ]
  },
  {
   "cell_type": "code",
   "execution_count": 38,
   "metadata": {},
   "outputs": [
    {
     "name": "stdout",
     "output_type": "stream",
     "text": [
      "<class 'pandas.core.frame.DataFrame'>\n",
      "RangeIndex: 20 entries, 0 to 19\n",
      "Data columns (total 6 columns):\n",
      " #   Column   Non-Null Count  Dtype \n",
      "---  ------   --------------  ----- \n",
      " 0   Rating   20 non-null     int64 \n",
      " 1   Brand    20 non-null     object\n",
      " 2   Flavour  20 non-null     object\n",
      " 3   Shape    20 non-null     object\n",
      " 4   Price    20 non-null     object\n",
      " 5   Size     20 non-null     object\n",
      "dtypes: int64(1), object(5)\n",
      "memory usage: 1.1+ KB\n"
     ]
    }
   ],
   "source": [
    "#Getting the information about each column in the dataset\n",
    "data.info()"
   ]
  },
  {
   "cell_type": "code",
   "execution_count": 42,
   "metadata": {},
   "outputs": [
    {
     "data": {
      "text/plain": [
       "<matplotlib.axes._subplots.AxesSubplot at 0x1ce473d99c8>"
      ]
     },
     "execution_count": 42,
     "metadata": {},
     "output_type": "execute_result"
    },
    {
     "data": {
      "image/png": "[encoded data removed]",
      "text/plain": [
       "<Figure size 432x288 with 1 Axes>"
      ]
     },
     "metadata": {
      "needs_background": "light"
     },
     "output_type": "display_data"
    }
   ],
   "source": [
    "#Plotting bar graph showing the total rating of each brand using groupby function\n",
    "profit_state=data['Rating'].groupby([data['Brand']]).sum()\n",
    "profit_state.plot.bar()"
   ]
  },
  {
   "cell_type": "code",
   "execution_count": 25,
   "metadata": {},
   "outputs": [
    {
     "name": "stdout",
     "output_type": "stream",
     "text": [
      "4\n",
      "['Amul' 'Cadbury' \"Hershey's\" 'Nestle']\n"
     ]
    }
   ],
   "source": [
    "#printing the number of unique brand using nunique function and their names using unique function\n",
    "print(data[\"Brand\"].nunique())\n",
    "print(data[\"Brand\"].unique())"
   ]
  },
  {
   "cell_type": "code",
   "execution_count": 26,
   "metadata": {},
   "outputs": [
    {
     "name": "stdout",
     "output_type": "stream",
     "text": [
      "4\n",
      "['Milk' 'Dark' 'Nuts' 'White']\n"
     ]
    }
   ],
   "source": [
    "#printing the number of unique flavour using nunique function and their names using unique function\n",
    "print(data[\"Flavour\"].nunique())\n",
    "print(data[\"Flavour\"].unique())"
   ]
  },
  {
   "cell_type": "code",
   "execution_count": 16,
   "metadata": {},
   "outputs": [
    {
     "data": {
      "text/html": [
       "<div>\n",
       "<style scoped>\n",
       "    .dataframe tbody tr th:only-of-type {\n",
       "        vertical-align: middle;\n",
       "    }\n",
       "\n",
       "    .dataframe tbody tr th {\n",
       "        vertical-align: top;\n",
       "    }\n",
       "\n",
       "    .dataframe thead th {\n",
       "        text-align: right;\n",
       "    }\n",
       "</style>\n",
       "<table border=\"1\" class=\"dataframe\">\n",
       "  <thead>\n",
       "    <tr style=\"text-align: right;\">\n",
       "      <th></th>\n",
       "      <th>Rating</th>\n",
       "      <th>Brand_Amul</th>\n",
       "      <th>Brand_Cadbury</th>\n",
       "      <th>Brand_Hershey's</th>\n",
       "      <th>Brand_Nestle</th>\n",
       "      <th>Flavour_Dark</th>\n",
       "      <th>Flavour_Milk</th>\n",
       "      <th>Flavour_Nuts</th>\n",
       "      <th>Flavour_White</th>\n",
       "      <th>Shape_Bar</th>\n",
       "      <th>...</th>\n",
       "      <th>Shape_Round</th>\n",
       "      <th>Shape_Thin Bar</th>\n",
       "      <th>Price_Rs.200</th>\n",
       "      <th>Price_Rs.450</th>\n",
       "      <th>Price_Rs.50</th>\n",
       "      <th>Price_Rs.80</th>\n",
       "      <th>Size_150gm</th>\n",
       "      <th>Size_25gm</th>\n",
       "      <th>Size_300gm</th>\n",
       "      <th>Size_40gm</th>\n",
       "    </tr>\n",
       "  </thead>\n",
       "  <tbody>\n",
       "    <tr>\n",
       "      <th>0</th>\n",
       "      <td>2</td>\n",
       "      <td>1</td>\n",
       "      <td>0</td>\n",
       "      <td>0</td>\n",
       "      <td>0</td>\n",
       "      <td>0</td>\n",
       "      <td>1</td>\n",
       "      <td>0</td>\n",
       "      <td>0</td>\n",
       "      <td>0</td>\n",
       "      <td>...</td>\n",
       "      <td>0</td>\n",
       "      <td>0</td>\n",
       "      <td>0</td>\n",
       "      <td>0</td>\n",
       "      <td>1</td>\n",
       "      <td>0</td>\n",
       "      <td>0</td>\n",
       "      <td>1</td>\n",
       "      <td>0</td>\n",
       "      <td>0</td>\n",
       "    </tr>\n",
       "    <tr>\n",
       "      <th>1</th>\n",
       "      <td>3</td>\n",
       "      <td>0</td>\n",
       "      <td>1</td>\n",
       "      <td>0</td>\n",
       "      <td>0</td>\n",
       "      <td>1</td>\n",
       "      <td>0</td>\n",
       "      <td>0</td>\n",
       "      <td>0</td>\n",
       "      <td>0</td>\n",
       "      <td>...</td>\n",
       "      <td>0</td>\n",
       "      <td>1</td>\n",
       "      <td>0</td>\n",
       "      <td>0</td>\n",
       "      <td>0</td>\n",
       "      <td>1</td>\n",
       "      <td>0</td>\n",
       "      <td>0</td>\n",
       "      <td>0</td>\n",
       "      <td>1</td>\n",
       "    </tr>\n",
       "    <tr>\n",
       "      <th>2</th>\n",
       "      <td>1</td>\n",
       "      <td>0</td>\n",
       "      <td>0</td>\n",
       "      <td>1</td>\n",
       "      <td>0</td>\n",
       "      <td>0</td>\n",
       "      <td>0</td>\n",
       "      <td>1</td>\n",
       "      <td>0</td>\n",
       "      <td>0</td>\n",
       "      <td>...</td>\n",
       "      <td>1</td>\n",
       "      <td>0</td>\n",
       "      <td>1</td>\n",
       "      <td>0</td>\n",
       "      <td>0</td>\n",
       "      <td>0</td>\n",
       "      <td>1</td>\n",
       "      <td>0</td>\n",
       "      <td>0</td>\n",
       "      <td>0</td>\n",
       "    </tr>\n",
       "    <tr>\n",
       "      <th>3</th>\n",
       "      <td>1</td>\n",
       "      <td>0</td>\n",
       "      <td>0</td>\n",
       "      <td>0</td>\n",
       "      <td>1</td>\n",
       "      <td>0</td>\n",
       "      <td>0</td>\n",
       "      <td>0</td>\n",
       "      <td>1</td>\n",
       "      <td>1</td>\n",
       "      <td>...</td>\n",
       "      <td>0</td>\n",
       "      <td>0</td>\n",
       "      <td>0</td>\n",
       "      <td>1</td>\n",
       "      <td>0</td>\n",
       "      <td>0</td>\n",
       "      <td>0</td>\n",
       "      <td>0</td>\n",
       "      <td>1</td>\n",
       "      <td>0</td>\n",
       "    </tr>\n",
       "    <tr>\n",
       "      <th>4</th>\n",
       "      <td>3</td>\n",
       "      <td>0</td>\n",
       "      <td>0</td>\n",
       "      <td>1</td>\n",
       "      <td>0</td>\n",
       "      <td>0</td>\n",
       "      <td>1</td>\n",
       "      <td>0</td>\n",
       "      <td>0</td>\n",
       "      <td>0</td>\n",
       "      <td>...</td>\n",
       "      <td>0</td>\n",
       "      <td>1</td>\n",
       "      <td>0</td>\n",
       "      <td>0</td>\n",
       "      <td>1</td>\n",
       "      <td>0</td>\n",
       "      <td>1</td>\n",
       "      <td>0</td>\n",
       "      <td>0</td>\n",
       "      <td>0</td>\n",
       "    </tr>\n",
       "  </tbody>\n",
       "</table>\n",
       "<p>5 rows × 21 columns</p>\n",
       "</div>"
      ],
      "text/plain": [
       "   Rating  Brand_Amul  Brand_Cadbury  Brand_Hershey's  Brand_Nestle  \\\n",
       "0       2           1              0                0             0   \n",
       "1       3           0              1                0             0   \n",
       "2       1           0              0                1             0   \n",
       "3       1           0              0                0             1   \n",
       "4       3           0              0                1             0   \n",
       "\n",
       "   Flavour_Dark  Flavour_Milk  Flavour_Nuts  Flavour_White  Shape_Bar  ...  \\\n",
       "0             0             1             0              0          0  ...   \n",
       "1             1             0             0              0          0  ...   \n",
       "2             0             0             1              0          0  ...   \n",
       "3             0             0             0              1          1  ...   \n",
       "4             0             1             0              0          0  ...   \n",
       "\n",
       "   Shape_Round  Shape_Thin Bar  Price_Rs.200  Price_Rs.450  Price_Rs.50  \\\n",
       "0            0               0             0             0            1   \n",
       "1            0               1             0             0            0   \n",
       "2            1               0             1             0            0   \n",
       "3            0               0             0             1            0   \n",
       "4            0               1             0             0            1   \n",
       "\n",
       "   Price_Rs.80  Size_150gm  Size_25gm  Size_300gm  Size_40gm  \n",
       "0            0           0          1           0          0  \n",
       "1            1           0          0           0          1  \n",
       "2            0           1          0           0          0  \n",
       "3            0           0          0           1          0  \n",
       "4            0           1          0           0          0  \n",
       "\n",
       "[5 rows x 21 columns]"
      ]
     },
     "execution_count": 16,
     "metadata": {},
     "output_type": "execute_result"
    }
   ],
   "source": [
    "#for futher analysis,we need to have binary values for all the categorical variables, so we use get_dummies function \n",
    "Chocolate_data=pd.get_dummies(data)\n",
    "Chocolate_data.head()"
   ]
  },
  {
   "cell_type": "code",
   "execution_count": 28,
   "metadata": {},
   "outputs": [
    {
     "data": {
      "text/plain": [
       "(20, 21)"
      ]
     },
     "execution_count": 28,
     "metadata": {},
     "output_type": "execute_result"
    }
   ],
   "source": [
    "#After adding dummies columns again we check the number of rows and columns\n",
    "Chocolate_data.shape"
   ]
  },
  {
   "cell_type": "code",
   "execution_count": 29,
   "metadata": {},
   "outputs": [
    {
     "data": {
      "text/plain": [
       "Index(['Rating', 'Brand_Amul', 'Brand_Cadbury', 'Brand_Hershey's',\n",
       "       'Brand_Nestle', 'Flavour_Dark', 'Flavour_Milk', 'Flavour_Nuts',\n",
       "       'Flavour_White', 'Shape_Bar', 'Shape_Cube', 'Shape_Round',\n",
       "       'Shape_Thin Bar', 'Price_Rs.200', 'Price_Rs.450', 'Price_Rs.50',\n",
       "       'Price_Rs.80', 'Size_150gm', 'Size_25gm', 'Size_300gm', 'Size_40gm'],\n",
       "      dtype='object')"
      ]
     },
     "execution_count": 29,
     "metadata": {},
     "output_type": "execute_result"
    }
   ],
   "source": [
    "#Checking the name of all columns\n",
    "Chocolate_data.columns"
   ]
  },
  {
   "cell_type": "code",
   "execution_count": 17,
   "metadata": {},
   "outputs": [],
   "source": [
    "#Splitting of data for dependent variable\n",
    "Y=Chocolate_data[\"Rating\"]"
   ]
  },
  {
   "cell_type": "code",
   "execution_count": 18,
   "metadata": {},
   "outputs": [],
   "source": [
    "#One category of each variable needs to be considered as a reference variable, so X is defined as a reference variable\n",
    "#This variable needs to be remove from the list of independent variables\n",
    "X=['Rating','Brand_Amul','Flavour_Milk','Shape_Cube','Price_Rs.50','Size_40gm']"
   ]
  },
  {
   "cell_type": "code",
   "execution_count": 19,
   "metadata": {},
   "outputs": [],
   "source": [
    "#Here we are deleting the unwanted columns from the dataset\n",
    "Chocolate_data.drop(labels=X,axis=1,inplace=True)"
   ]
  },
  {
   "cell_type": "code",
   "execution_count": 20,
   "metadata": {
    "scrolled": true
   },
   "outputs": [
    {
     "data": {
      "text/html": [
       "<div>\n",
       "<style scoped>\n",
       "    .dataframe tbody tr th:only-of-type {\n",
       "        vertical-align: middle;\n",
       "    }\n",
       "\n",
       "    .dataframe tbody tr th {\n",
       "        vertical-align: top;\n",
       "    }\n",
       "\n",
       "    .dataframe thead th {\n",
       "        text-align: right;\n",
       "    }\n",
       "</style>\n",
       "<table border=\"1\" class=\"dataframe\">\n",
       "  <thead>\n",
       "    <tr style=\"text-align: right;\">\n",
       "      <th></th>\n",
       "      <th>Brand_Cadbury</th>\n",
       "      <th>Brand_Hershey's</th>\n",
       "      <th>Brand_Nestle</th>\n",
       "      <th>Flavour_Dark</th>\n",
       "      <th>Flavour_Nuts</th>\n",
       "      <th>Flavour_White</th>\n",
       "      <th>Shape_Bar</th>\n",
       "      <th>Shape_Round</th>\n",
       "      <th>Shape_Thin Bar</th>\n",
       "      <th>Price_Rs.200</th>\n",
       "      <th>Price_Rs.450</th>\n",
       "      <th>Price_Rs.80</th>\n",
       "      <th>Size_150gm</th>\n",
       "      <th>Size_25gm</th>\n",
       "      <th>Size_300gm</th>\n",
       "    </tr>\n",
       "  </thead>\n",
       "  <tbody>\n",
       "    <tr>\n",
       "      <th>0</th>\n",
       "      <td>0</td>\n",
       "      <td>0</td>\n",
       "      <td>0</td>\n",
       "      <td>0</td>\n",
       "      <td>0</td>\n",
       "      <td>0</td>\n",
       "      <td>0</td>\n",
       "      <td>0</td>\n",
       "      <td>0</td>\n",
       "      <td>0</td>\n",
       "      <td>0</td>\n",
       "      <td>0</td>\n",
       "      <td>0</td>\n",
       "      <td>1</td>\n",
       "      <td>0</td>\n",
       "    </tr>\n",
       "    <tr>\n",
       "      <th>1</th>\n",
       "      <td>1</td>\n",
       "      <td>0</td>\n",
       "      <td>0</td>\n",
       "      <td>1</td>\n",
       "      <td>0</td>\n",
       "      <td>0</td>\n",
       "      <td>0</td>\n",
       "      <td>0</td>\n",
       "      <td>1</td>\n",
       "      <td>0</td>\n",
       "      <td>0</td>\n",
       "      <td>1</td>\n",
       "      <td>0</td>\n",
       "      <td>0</td>\n",
       "      <td>0</td>\n",
       "    </tr>\n",
       "    <tr>\n",
       "      <th>2</th>\n",
       "      <td>0</td>\n",
       "      <td>1</td>\n",
       "      <td>0</td>\n",
       "      <td>0</td>\n",
       "      <td>1</td>\n",
       "      <td>0</td>\n",
       "      <td>0</td>\n",
       "      <td>1</td>\n",
       "      <td>0</td>\n",
       "      <td>1</td>\n",
       "      <td>0</td>\n",
       "      <td>0</td>\n",
       "      <td>1</td>\n",
       "      <td>0</td>\n",
       "      <td>0</td>\n",
       "    </tr>\n",
       "    <tr>\n",
       "      <th>3</th>\n",
       "      <td>0</td>\n",
       "      <td>0</td>\n",
       "      <td>1</td>\n",
       "      <td>0</td>\n",
       "      <td>0</td>\n",
       "      <td>1</td>\n",
       "      <td>1</td>\n",
       "      <td>0</td>\n",
       "      <td>0</td>\n",
       "      <td>0</td>\n",
       "      <td>1</td>\n",
       "      <td>0</td>\n",
       "      <td>0</td>\n",
       "      <td>0</td>\n",
       "      <td>1</td>\n",
       "    </tr>\n",
       "    <tr>\n",
       "      <th>4</th>\n",
       "      <td>0</td>\n",
       "      <td>1</td>\n",
       "      <td>0</td>\n",
       "      <td>0</td>\n",
       "      <td>0</td>\n",
       "      <td>0</td>\n",
       "      <td>0</td>\n",
       "      <td>0</td>\n",
       "      <td>1</td>\n",
       "      <td>0</td>\n",
       "      <td>0</td>\n",
       "      <td>0</td>\n",
       "      <td>1</td>\n",
       "      <td>0</td>\n",
       "      <td>0</td>\n",
       "    </tr>\n",
       "  </tbody>\n",
       "</table>\n",
       "</div>"
      ],
      "text/plain": [
       "   Brand_Cadbury  Brand_Hershey's  Brand_Nestle  Flavour_Dark  Flavour_Nuts  \\\n",
       "0              0                0             0             0             0   \n",
       "1              1                0             0             1             0   \n",
       "2              0                1             0             0             1   \n",
       "3              0                0             1             0             0   \n",
       "4              0                1             0             0             0   \n",
       "\n",
       "   Flavour_White  Shape_Bar  Shape_Round  Shape_Thin Bar  Price_Rs.200  \\\n",
       "0              0          0            0               0             0   \n",
       "1              0          0            0               1             0   \n",
       "2              0          0            1               0             1   \n",
       "3              1          1            0               0             0   \n",
       "4              0          0            0               1             0   \n",
       "\n",
       "   Price_Rs.450  Price_Rs.80  Size_150gm  Size_25gm  Size_300gm  \n",
       "0             0            0           0          1           0  \n",
       "1             0            1           0          0           0  \n",
       "2             0            0           1          0           0  \n",
       "3             1            0           0          0           1  \n",
       "4             0            0           1          0           0  "
      ]
     },
     "execution_count": 20,
     "metadata": {},
     "output_type": "execute_result"
    }
   ],
   "source": [
    "#Checking the first five record\n",
    "Chocolate_data.head()"
   ]
  },
  {
   "cell_type": "markdown",
   "metadata": {},
   "source": [
    "### Now on the combination of these attributes we apply OLS regression and from which we get beta coefficient and from this we find utility and utility gives us importance of combination"
   ]
  },
  {
   "cell_type": "code",
   "execution_count": 21,
   "metadata": {},
   "outputs": [],
   "source": [
    "import statsmodels.api as sm"
   ]
  },
  {
   "cell_type": "code",
   "execution_count": 22,
   "metadata": {},
   "outputs": [],
   "source": [
    "Chocolate_model=sm.OLS(Y,Chocolate_data).fit()"
   ]
  },
  {
   "cell_type": "code",
   "execution_count": 23,
   "metadata": {},
   "outputs": [
    {
     "data": {
      "text/html": [
       "<table class=\"simpletable\">\n",
       "<caption>OLS Regression Results</caption>\n",
       "<tr>\n",
       "  <th>Dep. Variable:</th>         <td>Rating</td>      <th>  R-squared (uncentered):</th>      <td>   0.954</td>\n",
       "</tr>\n",
       "<tr>\n",
       "  <th>Model:</th>                   <td>OLS</td>       <th>  Adj. R-squared (uncentered):</th> <td>   0.845</td>\n",
       "</tr>\n",
       "<tr>\n",
       "  <th>Method:</th>             <td>Least Squares</td>  <th>  F-statistic:       </th>          <td>   8.809</td>\n",
       "</tr>\n",
       "<tr>\n",
       "  <th>Date:</th>             <td>Fri, 15 Jan 2021</td> <th>  Prob (F-statistic):</th>           <td>0.00679</td>\n",
       "</tr>\n",
       "<tr>\n",
       "  <th>Time:</th>                 <td>22:13:28</td>     <th>  Log-Likelihood:    </th>          <td> -18.529</td>\n",
       "</tr>\n",
       "<tr>\n",
       "  <th>No. Observations:</th>      <td>    20</td>      <th>  AIC:               </th>          <td>   65.06</td>\n",
       "</tr>\n",
       "<tr>\n",
       "  <th>Df Residuals:</th>          <td>     6</td>      <th>  BIC:               </th>          <td>   79.00</td>\n",
       "</tr>\n",
       "<tr>\n",
       "  <th>Df Model:</th>              <td>    14</td>      <th>                     </th>              <td> </td>   \n",
       "</tr>\n",
       "<tr>\n",
       "  <th>Covariance Type:</th>      <td>nonrobust</td>    <th>                     </th>              <td> </td>   \n",
       "</tr>\n",
       "</table>\n",
       "<table class=\"simpletable\">\n",
       "<tr>\n",
       "         <td></td>            <th>coef</th>     <th>std err</th>      <th>t</th>      <th>P>|t|</th>  <th>[0.025</th>    <th>0.975]</th>  \n",
       "</tr>\n",
       "<tr>\n",
       "  <th>Brand_Cadbury</th>   <td>   -1.0782</td> <td>    1.218</td> <td>   -0.885</td> <td> 0.410</td> <td>   -4.059</td> <td>    1.903</td>\n",
       "</tr>\n",
       "<tr>\n",
       "  <th>Brand_Hershey's</th> <td>   -0.3854</td> <td>    1.143</td> <td>   -0.337</td> <td> 0.747</td> <td>   -3.182</td> <td>    2.411</td>\n",
       "</tr>\n",
       "<tr>\n",
       "  <th>Brand_Nestle</th>    <td>   -1.4685</td> <td>    0.932</td> <td>   -1.575</td> <td> 0.166</td> <td>   -3.749</td> <td>    0.812</td>\n",
       "</tr>\n",
       "<tr>\n",
       "  <th>Flavour_Dark</th>    <td>    1.5935</td> <td>    1.033</td> <td>    1.543</td> <td> 0.174</td> <td>   -0.934</td> <td>    4.121</td>\n",
       "</tr>\n",
       "<tr>\n",
       "  <th>Flavour_Nuts</th>    <td>    1.2904</td> <td>    1.026</td> <td>    1.258</td> <td> 0.255</td> <td>   -1.219</td> <td>    3.800</td>\n",
       "</tr>\n",
       "<tr>\n",
       "  <th>Flavour_White</th>   <td>    0.9387</td> <td>    0.839</td> <td>    1.118</td> <td> 0.306</td> <td>   -1.115</td> <td>    2.993</td>\n",
       "</tr>\n",
       "<tr>\n",
       "  <th>Shape_Bar</th>       <td>    0.8235</td> <td>    1.320</td> <td>    0.624</td> <td> 0.556</td> <td>   -2.407</td> <td>    4.054</td>\n",
       "</tr>\n",
       "<tr>\n",
       "  <th>Shape_Round</th>     <td>   -0.8219</td> <td>    1.041</td> <td>   -0.789</td> <td> 0.460</td> <td>   -3.369</td> <td>    1.726</td>\n",
       "</tr>\n",
       "<tr>\n",
       "  <th>Shape_Thin Bar</th>  <td>    0.7192</td> <td>    1.250</td> <td>    0.575</td> <td> 0.586</td> <td>   -2.339</td> <td>    3.777</td>\n",
       "</tr>\n",
       "<tr>\n",
       "  <th>Price_Rs.200</th>    <td>   -1.0016</td> <td>    1.442</td> <td>   -0.695</td> <td> 0.513</td> <td>   -4.531</td> <td>    2.527</td>\n",
       "</tr>\n",
       "<tr>\n",
       "  <th>Price_Rs.450</th>    <td>    0.8450</td> <td>    0.634</td> <td>    1.332</td> <td> 0.231</td> <td>   -0.707</td> <td>    2.397</td>\n",
       "</tr>\n",
       "<tr>\n",
       "  <th>Price_Rs.80</th>     <td>    1.9395</td> <td>    1.042</td> <td>    1.861</td> <td> 0.112</td> <td>   -0.611</td> <td>    4.490</td>\n",
       "</tr>\n",
       "<tr>\n",
       "  <th>Size_150gm</th>      <td>    2.8173</td> <td>    1.905</td> <td>    1.479</td> <td> 0.190</td> <td>   -1.845</td> <td>    7.479</td>\n",
       "</tr>\n",
       "<tr>\n",
       "  <th>Size_25gm</th>       <td>    2.2496</td> <td>    0.775</td> <td>    2.902</td> <td> 0.027</td> <td>    0.353</td> <td>    4.146</td>\n",
       "</tr>\n",
       "<tr>\n",
       "  <th>Size_300gm</th>      <td>    0.8450</td> <td>    0.634</td> <td>    1.332</td> <td> 0.231</td> <td>   -0.707</td> <td>    2.397</td>\n",
       "</tr>\n",
       "</table>\n",
       "<table class=\"simpletable\">\n",
       "<tr>\n",
       "  <th>Omnibus:</th>       <td> 0.261</td> <th>  Durbin-Watson:     </th> <td>   0.963</td>\n",
       "</tr>\n",
       "<tr>\n",
       "  <th>Prob(Omnibus):</th> <td> 0.878</td> <th>  Jarque-Bera (JB):  </th> <td>   0.444</td>\n",
       "</tr>\n",
       "<tr>\n",
       "  <th>Skew:</th>          <td>-0.096</td> <th>  Prob(JB):          </th> <td>   0.801</td>\n",
       "</tr>\n",
       "<tr>\n",
       "  <th>Kurtosis:</th>      <td> 2.296</td> <th>  Cond. No.          </th> <td>7.74e+16</td>\n",
       "</tr>\n",
       "</table><br/><br/>Warnings:<br/>[1] Standard Errors assume that the covariance matrix of the errors is correctly specified.<br/>[2] The smallest eigenvalue is 3.55e-33. This might indicate that there are<br/>strong multicollinearity problems or that the design matrix is singular."
      ],
      "text/plain": [
       "<class 'statsmodels.iolib.summary.Summary'>\n",
       "\"\"\"\n",
       "                                 OLS Regression Results                                \n",
       "=======================================================================================\n",
       "Dep. Variable:                 Rating   R-squared (uncentered):                   0.954\n",
       "Model:                            OLS   Adj. R-squared (uncentered):              0.845\n",
       "Method:                 Least Squares   F-statistic:                              8.809\n",
       "Date:                Fri, 15 Jan 2021   Prob (F-statistic):                     0.00679\n",
       "Time:                        22:13:28   Log-Likelihood:                         -18.529\n",
       "No. Observations:                  20   AIC:                                      65.06\n",
       "Df Residuals:                       6   BIC:                                      79.00\n",
       "Df Model:                          14                                                  \n",
       "Covariance Type:            nonrobust                                                  \n",
       "===================================================================================\n",
       "                      coef    std err          t      P>|t|      [0.025      0.975]\n",
       "-----------------------------------------------------------------------------------\n",
       "Brand_Cadbury      -1.0782      1.218     -0.885      0.410      -4.059       1.903\n",
       "Brand_Hershey's    -0.3854      1.143     -0.337      0.747      -3.182       2.411\n",
       "Brand_Nestle       -1.4685      0.932     -1.575      0.166      -3.749       0.812\n",
       "Flavour_Dark        1.5935      1.033      1.543      0.174      -0.934       4.121\n",
       "Flavour_Nuts        1.2904      1.026      1.258      0.255      -1.219       3.800\n",
       "Flavour_White       0.9387      0.839      1.118      0.306      -1.115       2.993\n",
       "Shape_Bar           0.8235      1.320      0.624      0.556      -2.407       4.054\n",
       "Shape_Round        -0.8219      1.041     -0.789      0.460      -3.369       1.726\n",
       "Shape_Thin Bar      0.7192      1.250      0.575      0.586      -2.339       3.777\n",
       "Price_Rs.200       -1.0016      1.442     -0.695      0.513      -4.531       2.527\n",
       "Price_Rs.450        0.8450      0.634      1.332      0.231      -0.707       2.397\n",
       "Price_Rs.80         1.9395      1.042      1.861      0.112      -0.611       4.490\n",
       "Size_150gm          2.8173      1.905      1.479      0.190      -1.845       7.479\n",
       "Size_25gm           2.2496      0.775      2.902      0.027       0.353       4.146\n",
       "Size_300gm          0.8450      0.634      1.332      0.231      -0.707       2.397\n",
       "==============================================================================\n",
       "Omnibus:                        0.261   Durbin-Watson:                   0.963\n",
       "Prob(Omnibus):                  0.878   Jarque-Bera (JB):                0.444\n",
       "Skew:                          -0.096   Prob(JB):                        0.801\n",
       "Kurtosis:                       2.296   Cond. No.                     7.74e+16\n",
       "==============================================================================\n",
       "\n",
       "Warnings:\n",
       "[1] Standard Errors assume that the covariance matrix of the errors is correctly specified.\n",
       "[2] The smallest eigenvalue is 3.55e-33. This might indicate that there are\n",
       "strong multicollinearity problems or that the design matrix is singular.\n",
       "\"\"\""
      ]
     },
     "execution_count": 23,
     "metadata": {},
     "output_type": "execute_result"
    }
   ],
   "source": [
    "Chocolate_model.summary()"
   ]
  },
  {
   "cell_type": "markdown",
   "metadata": {},
   "source": [
    "### Remaining analysis is done using excel in excel file"
   ]
  }
 ],
 "metadata": {
  "kernelspec": {
   "display_name": "Python 3",
   "language": "python",
   "name": "python3"
  },
  "language_info": {
   "codemirror_mode": {
    "name": "ipython",
    "version": 3
   },
   "file_extension": ".py",
   "mimetype": "text/x-python",
   "name": "python",
   "nbconvert_exporter": "python",
   "pygments_lexer": "ipython3",
   "version": "3.7.6"
  }
 },
 "nbformat": 4,
 "nbformat_minor": 4
}
